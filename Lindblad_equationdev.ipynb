{
  "nbformat": 4,
  "nbformat_minor": 0,
  "metadata": {
    "colab": {
      "provenance": [],
      "authorship_tag": "ABX9TyNpD6zN7AVZbrwGDqtqajgS"
    },
    "kernelspec": {
      "name": "python3",
      "display_name": "Python 3"
    },
    "language_info": {
      "name": "python"
    }
  },
  "cells": [
    {
      "cell_type": "markdown",
      "source": [
        "I want to integrate classical methods to optimize hyperparameters from quantum world."
      ],
      "metadata": {
        "id": "ljU1_5WXYT8J"
      }
    },
    {
      "cell_type": "code",
      "source": [
        "# Install Qiskit Dynamics\n",
        "!pip install qiskit-dynamics"
      ],
      "metadata": {
        "colab": {
          "base_uri": "https://localhost:8080/"
        },
        "id": "4EKI88bwj3IL",
        "outputId": "d35febf4-f739-4032-98e5-de08884c9407"
      },
      "execution_count": 1,
      "outputs": [
        {
          "output_type": "stream",
          "name": "stdout",
          "text": [
            "Collecting qiskit-dynamics\n",
            "  Downloading qiskit_dynamics-0.5.1-py3-none-any.whl.metadata (5.0 kB)\n",
            "Requirement already satisfied: numpy>=1.17 in /usr/local/lib/python3.10/dist-packages (from qiskit-dynamics) (1.26.4)\n",
            "Requirement already satisfied: scipy>=1.4 in /usr/local/lib/python3.10/dist-packages (from qiskit-dynamics) (1.13.1)\n",
            "Requirement already satisfied: matplotlib>=3.0 in /usr/local/lib/python3.10/dist-packages (from qiskit-dynamics) (3.7.1)\n",
            "Collecting qiskit (from qiskit-dynamics)\n",
            "  Downloading qiskit-1.2.2-cp38-abi3-manylinux_2_17_x86_64.manylinux2014_x86_64.whl.metadata (12 kB)\n",
            "Collecting multiset>=3.0.1 (from qiskit-dynamics)\n",
            "  Downloading multiset-3.2.0-py2.py3-none-any.whl.metadata (4.0 kB)\n",
            "Requirement already satisfied: sympy>=1.12 in /usr/local/lib/python3.10/dist-packages (from qiskit-dynamics) (1.13.3)\n",
            "Collecting arraylias (from qiskit-dynamics)\n",
            "  Downloading arraylias-0.1.1-py3-none-any.whl.metadata (3.8 kB)\n",
            "Requirement already satisfied: contourpy>=1.0.1 in /usr/local/lib/python3.10/dist-packages (from matplotlib>=3.0->qiskit-dynamics) (1.3.0)\n",
            "Requirement already satisfied: cycler>=0.10 in /usr/local/lib/python3.10/dist-packages (from matplotlib>=3.0->qiskit-dynamics) (0.12.1)\n",
            "Requirement already satisfied: fonttools>=4.22.0 in /usr/local/lib/python3.10/dist-packages (from matplotlib>=3.0->qiskit-dynamics) (4.53.1)\n",
            "Requirement already satisfied: kiwisolver>=1.0.1 in /usr/local/lib/python3.10/dist-packages (from matplotlib>=3.0->qiskit-dynamics) (1.4.7)\n",
            "Requirement already satisfied: packaging>=20.0 in /usr/local/lib/python3.10/dist-packages (from matplotlib>=3.0->qiskit-dynamics) (24.1)\n",
            "Requirement already satisfied: pillow>=6.2.0 in /usr/local/lib/python3.10/dist-packages (from matplotlib>=3.0->qiskit-dynamics) (10.4.0)\n",
            "Requirement already satisfied: pyparsing>=2.3.1 in /usr/local/lib/python3.10/dist-packages (from matplotlib>=3.0->qiskit-dynamics) (3.1.4)\n",
            "Requirement already satisfied: python-dateutil>=2.7 in /usr/local/lib/python3.10/dist-packages (from matplotlib>=3.0->qiskit-dynamics) (2.8.2)\n",
            "Requirement already satisfied: mpmath<1.4,>=1.1.0 in /usr/local/lib/python3.10/dist-packages (from sympy>=1.12->qiskit-dynamics) (1.3.0)\n",
            "Collecting rustworkx>=0.15.0 (from qiskit->qiskit-dynamics)\n",
            "  Downloading rustworkx-0.15.1-cp38-abi3-manylinux_2_17_x86_64.manylinux2014_x86_64.whl.metadata (9.9 kB)\n",
            "Collecting dill>=0.3 (from qiskit->qiskit-dynamics)\n",
            "  Downloading dill-0.3.8-py3-none-any.whl.metadata (10 kB)\n",
            "Collecting stevedore>=3.0.0 (from qiskit->qiskit-dynamics)\n",
            "  Downloading stevedore-5.3.0-py3-none-any.whl.metadata (2.3 kB)\n",
            "Requirement already satisfied: typing-extensions in /usr/local/lib/python3.10/dist-packages (from qiskit->qiskit-dynamics) (4.12.2)\n",
            "Collecting symengine>=0.11 (from qiskit->qiskit-dynamics)\n",
            "  Downloading symengine-0.11.0-cp310-cp310-manylinux_2_12_x86_64.manylinux2010_x86_64.whl.metadata (1.2 kB)\n",
            "Requirement already satisfied: six>=1.5 in /usr/local/lib/python3.10/dist-packages (from python-dateutil>=2.7->matplotlib>=3.0->qiskit-dynamics) (1.16.0)\n",
            "Collecting pbr>=2.0.0 (from stevedore>=3.0.0->qiskit->qiskit-dynamics)\n",
            "  Downloading pbr-6.1.0-py2.py3-none-any.whl.metadata (3.4 kB)\n",
            "Downloading qiskit_dynamics-0.5.1-py3-none-any.whl (191 kB)\n",
            "\u001b[2K   \u001b[90m━━━━━━━━━━━━━━━━━━━━━━━━━━━━━━━━━━━━━━━━\u001b[0m \u001b[32m191.8/191.8 kB\u001b[0m \u001b[31m2.6 MB/s\u001b[0m eta \u001b[36m0:00:00\u001b[0m\n",
            "\u001b[?25hDownloading multiset-3.2.0-py2.py3-none-any.whl (11 kB)\n",
            "Downloading arraylias-0.1.1-py3-none-any.whl (21 kB)\n",
            "Downloading qiskit-1.2.2-cp38-abi3-manylinux_2_17_x86_64.manylinux2014_x86_64.whl (4.7 MB)\n",
            "\u001b[2K   \u001b[90m━━━━━━━━━━━━━━━━━━━━━━━━━━━━━━━━━━━━━━━━\u001b[0m \u001b[32m4.7/4.7 MB\u001b[0m \u001b[31m22.0 MB/s\u001b[0m eta \u001b[36m0:00:00\u001b[0m\n",
            "\u001b[?25hDownloading dill-0.3.8-py3-none-any.whl (116 kB)\n",
            "\u001b[2K   \u001b[90m━━━━━━━━━━━━━━━━━━━━━━━━━━━━━━━━━━━━━━━━\u001b[0m \u001b[32m116.3/116.3 kB\u001b[0m \u001b[31m6.8 MB/s\u001b[0m eta \u001b[36m0:00:00\u001b[0m\n",
            "\u001b[?25hDownloading rustworkx-0.15.1-cp38-abi3-manylinux_2_17_x86_64.manylinux2014_x86_64.whl (2.0 MB)\n",
            "\u001b[2K   \u001b[90m━━━━━━━━━━━━━━━━━━━━━━━━━━━━━━━━━━━━━━━━\u001b[0m \u001b[32m2.0/2.0 MB\u001b[0m \u001b[31m21.0 MB/s\u001b[0m eta \u001b[36m0:00:00\u001b[0m\n",
            "\u001b[?25hDownloading stevedore-5.3.0-py3-none-any.whl (49 kB)\n",
            "\u001b[2K   \u001b[90m━━━━━━━━━━━━━━━━━━━━━━━━━━━━━━━━━━━━━━━━\u001b[0m \u001b[32m49.7/49.7 kB\u001b[0m \u001b[31m2.4 MB/s\u001b[0m eta \u001b[36m0:00:00\u001b[0m\n",
            "\u001b[?25hDownloading symengine-0.11.0-cp310-cp310-manylinux_2_12_x86_64.manylinux2010_x86_64.whl (39.4 MB)\n",
            "\u001b[2K   \u001b[90m━━━━━━━━━━━━━━━━━━━━━━━━━━━━━━━━━━━━━━━━\u001b[0m \u001b[32m39.4/39.4 MB\u001b[0m \u001b[31m13.2 MB/s\u001b[0m eta \u001b[36m0:00:00\u001b[0m\n",
            "\u001b[?25hDownloading pbr-6.1.0-py2.py3-none-any.whl (108 kB)\n",
            "\u001b[2K   \u001b[90m━━━━━━━━━━━━━━━━━━━━━━━━━━━━━━━━━━━━━━━━\u001b[0m \u001b[32m108.5/108.5 kB\u001b[0m \u001b[31m2.8 MB/s\u001b[0m eta \u001b[36m0:00:00\u001b[0m\n",
            "\u001b[?25hInstalling collected packages: symengine, rustworkx, pbr, multiset, dill, arraylias, stevedore, qiskit, qiskit-dynamics\n",
            "Successfully installed arraylias-0.1.1 dill-0.3.8 multiset-3.2.0 pbr-6.1.0 qiskit-1.2.2 qiskit-dynamics-0.5.1 rustworkx-0.15.1 stevedore-5.3.0 symengine-0.11.0\n"
          ]
        }
      ]
    },
    {
      "cell_type": "code",
      "execution_count": 16,
      "metadata": {
        "id": "GgbGwC42YQMx"
      },
      "outputs": [],
      "source": [
        "import numpy as np\n",
        "from qiskit_dynamics import Solver, Signal\n",
        "from qiskit_dynamics.models import LindbladModel\n",
        "from qiskit.quantum_info import Operator, Statevector, DensityMatrix, Pauli\n",
        "import matplotlib.pyplot as plt\n"
      ]
    },
    {
      "cell_type": "code",
      "source": [
        "N = 6  # Number of qubits\n",
        "omega_z = 2 * np.pi * 5e9  # Qubit frequency in rad/s (5 GHz)\n",
        "omega_x = 2 * np.pi * 0.5e9  # Drive frequency in rad/s (0.5 GHz)\n",
        "J = 2 * np.pi * 0.2e9  # Coupling strength in rad/s (0.2 GHz)\n",
        "Gamma = 2 * np.pi * 1e6  # Dissipation rate in rad/s (1 MHz)\n",
        "#initializing the operators X,Y, Z\n",
        "x_ops = []\n",
        "y_ops = []\n",
        "z_ops = []\n",
        "qubits = range(N)\n",
        "zeros = Operator(np.zeros((2 ** N, 2 ** N)))\n",
        "\n",
        "for i in qubits:\n",
        "    X = zeros + Pauli('X')(i)\n",
        "    x_ops.append(X)\n",
        "\n",
        "    Y = zeros + Pauli('Y')(i)\n",
        "    y_ops.append(Y)\n",
        "\n",
        "    Z = zeros + Pauli('Z')(i)\n",
        "    z_ops.append(Z)"
      ],
      "metadata": {
        "id": "YbGvhVhdnKmG"
      },
      "execution_count": 23,
      "outputs": []
    },
    {
      "cell_type": "code",
      "source": [
        "H = zeros\n",
        "for i in qubits:\n",
        "    X = x_ops[i]\n",
        "    Z = z_ops[i]\n",
        "    H += 0.5 * omega_x * X  # Driving term\n",
        "    H += 0.5 * omega_z * Z  # Qubit energy term\n",
        "\n",
        "    if N > 1:\n",
        "        j = i + 1 if i < (N - 1) else 0\n",
        "        op_xx = zeros + Pauli('XX')(i, j)\n",
        "        op_yy = zeros + Pauli('YY')(i, j)\n",
        "        H += 0.5 * J * (op_xx + op_yy)  # Interaction terms"
      ],
      "metadata": {
        "id": "DGkBCqx9j-G7"
      },
      "execution_count": 24,
      "outputs": []
    },
    {
      "cell_type": "code",
      "source": [
        "# THE Lindblad operators (decay process)\n",
        "L_ops = []\n",
        "for i in qubits:\n",
        "    X = x_ops[i]\n",
        "    Y = y_ops[i]\n",
        "    L_ops.append(np.sqrt(Gamma) * 0.5 * (X + 1j * Y))"
      ],
      "metadata": {
        "id": "VuK96G9-kMwH"
      },
      "execution_count": 25,
      "outputs": []
    },
    {
      "cell_type": "code",
      "source": [
        "solver = Solver(static_hamiltonian=H, static_dissipators=L_ops)\n",
        "\n",
        "# all qubits in ground state\n",
        "y0 = DensityMatrix.from_label('0' * N)\n",
        "\n",
        "t_final = 2.0e-6  # Total simulation time (e.g., 2 microseconds)\n",
        "tau = 0.01e-6  # Time step (10 ns)\n",
        "n_steps = int(np.ceil(t_final / tau)) + 1\n",
        "t_eval = np.linspace(0., t_final, n_steps)\n",
        "\n",
        "# Solve the Lindblad equation\n",
        "sol = solver.solve(t_span=[0., t_final], y0=y0, t_eval=t_eval)"
      ],
      "metadata": {
        "id": "I3L0eYTnkRyC"
      },
      "execution_count": null,
      "outputs": []
    },
    {
      "cell_type": "code",
      "source": [
        "# Calculate expectation values\n",
        "n_times = len(sol.y)\n",
        "x_data = np.zeros((N, n_times))\n",
        "y_data = np.zeros((N, n_times))\n",
        "z_data = np.zeros((N, n_times))\n",
        "x_mean = np.zeros((n_times,))\n",
        "y_mean = np.zeros((n_times,))\n",
        "z_mean = np.zeros((n_times,))\n",
        "\n",
        "for t_i, sol_t in enumerate(sol.y):\n",
        "    for qubit, obs in enumerate(x_ops):\n",
        "        x_data[qubit, t_i] = sol_t.expectation_value(obs).real\n",
        "    x_mean[t_i] = np.mean(x_data[:, t_i])\n",
        "\n",
        "    for qubit, obs in enumerate(y_ops):\n",
        "        y_data[qubit, t_i] = sol_t.expectation_value(obs).real\n",
        "    y_mean[t_i] = np.mean(y_data[:, t_i])\n",
        "\n",
        "    for qubit, obs in enumerate(z_ops):\n",
        "        z_data[qubit, t_i] = sol_t.expectation_value(obs).real\n",
        "    z_mean[t_i] = np.mean(z_data[:, t_i])"
      ],
      "metadata": {
        "id": "POd7wK6dnaWs"
      },
      "execution_count": null,
      "outputs": []
    },
    {
      "cell_type": "code",
      "source": [
        "plt.figure(figsize=(10, 6))\n",
        "plt.plot(t_eval, x_mean, label='$ N^{-1}\\\\sum_i \\\\langle X_i \\\\rangle$')\n",
        "plt.plot(t_eval, y_mean, label='$ N^{-1}\\\\sum_i \\\\langle Y_i \\\\rangle$')\n",
        "plt.plot(t_eval, z_mean, label='$ N^{-1}\\\\sum_i \\\\langle Z_i \\\\rangle$')\n",
        "plt.legend(fontsize=16)\n",
        "plt.xlabel('$t$ (seconds)', fontsize=16)\n",
        "plt.ylabel('Expectation values', fontsize=16)\n",
        "plt.title('Mean Bloch vector vs. $t$', fontsize=16)\n",
        "plt.grid(True)\n",
        "plt.show()"
      ],
      "metadata": {
        "id": "j-xwRa6RngWC"
      },
      "execution_count": null,
      "outputs": []
    },
    {
      "cell_type": "code",
      "source": [],
      "metadata": {
        "id": "zvx7ckAGrGqg"
      },
      "execution_count": null,
      "outputs": []
    }
  ]
}